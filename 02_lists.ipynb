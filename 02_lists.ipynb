{
  "nbformat": 4,
  "nbformat_minor": 0,
  "metadata": {
    "colab": {
      "provenance": [],
      "authorship_tag": "ABX9TyMsBJT+rG7gGeU6fEkBJEdt",
      "include_colab_link": true
    },
    "kernelspec": {
      "name": "python3",
      "display_name": "Python 3"
    },
    "language_info": {
      "name": "python"
    }
  },
  "cells": [
    {
      "cell_type": "markdown",
      "metadata": {
        "id": "view-in-github",
        "colab_type": "text"
      },
      "source": [
        "<a href=\"https://colab.research.google.com/github/memisbah/ASSIgnment-4/blob/main/02_lists.ipynb\" target=\"_parent\"><img src=\"https://colab.research.google.com/assets/colab-badge.svg\" alt=\"Open In Colab\"/></a>"
      ]
    },
    {
      "cell_type": "code",
      "execution_count": null,
      "metadata": {
        "colab": {
          "base_uri": "https://localhost:8080/"
        },
        "id": "wZbGDm5iD6C7",
        "outputId": "d30715c5-fda9-4258-c7f7-19e0f52618cb"
      },
      "outputs": [
        {
          "output_type": "stream",
          "name": "stdout",
          "text": [
            "15\n"
          ]
        }
      ],
      "source": [
        "def add_many_numbers(numbers) -> int:\n",
        "    \"\"\"\n",
        "    Takes in a list of numbers and returns the sum of those numbers.\n",
        "    \"\"\"\n",
        "    total_so_far: int = 0\n",
        "    for number in numbers:\n",
        "        total_so_far += number\n",
        "    return total_so_far\n",
        "\n",
        "# There is no need to edit code beyond this point\n",
        "\n",
        "def main():\n",
        "    numbers: list[int] = [1, 2, 3, 4, 5]  # Make a list of numbers\n",
        "    sum_of_numbers: int = add_many_numbers(numbers)  # Find the sum of the list\n",
        "    print(sum_of_numbers)  # Print out the sum above\n",
        "\n",
        "if __name__ == '__main__':\n",
        "    main()\n"
      ]
    },
    {
      "cell_type": "code",
      "source": [
        "# Starter Code\n",
        "def main():\n",
        "    print(\"Delete this line and write your code here! :)\")\n",
        "\n",
        "if __name__ == '__main__':\n",
        "    main()\n",
        "def double_numbers(numbers: list[int]) -> list[int]:\n",
        "    \"\"\"\n",
        "    Takes a list of numbers and returns a new list\n",
        "    with each number doubled.\n",
        "    \"\"\"\n",
        "    doubled_list: list[int] = []\n",
        "    for number in numbers:\n",
        "        doubled_list.append(number * 2)\n",
        "    return doubled_list\n",
        "\n",
        "# There is no need to edit code beyond this point\n",
        "\n",
        "def main():\n",
        "    numbers: list[int] = [1, 2, 3, 4]  # Original list\n",
        "    doubled: list[int] = double_numbers(numbers)  # Double each number\n",
        "    print(doubled)  # Print the doubled list\n",
        "\n",
        "if __name__ == '__main__':\n",
        "    main()\n"
      ],
      "metadata": {
        "colab": {
          "base_uri": "https://localhost:8080/"
        },
        "id": "kc6kxssgEhT0",
        "outputId": "aed7cc9d-d804-47da-a9d9-be0ea0ad2bfe"
      },
      "execution_count": null,
      "outputs": [
        {
          "output_type": "stream",
          "name": "stdout",
          "text": [
            "Delete this line and write your code here! :)\n",
            "[2, 4, 6, 8]\n"
          ]
        }
      ]
    },
    {
      "cell_type": "code",
      "source": [
        "def main():\n",
        "    global canvas, eraser, grid_cells\n",
        "\n",
        "    root = tk.Tk()\n",
        "    root.title(\"Canvas Eraser\")\n",
        "\n",
        "    canvas_width = CELL_SIZE * GRID_WIDTH\n",
        "    canvas_height = CELL_SIZE * GRID_HEIGHT\n",
        "\n",
        "    canvas = tk.Canvas(root, width=canvas_width, height=canvas_height)\n",
        "    canvas.pack()\n",
        "\n",
        "    grid_cells = create_grid(canvas)\n",
        "\n",
        "    # Create eraser rectangle (initially off-canvas)\n",
        "    eraser = canvas.create_rectangle(-100, -100, -50, -50, fill='white', outline='gray')\n",
        "\n",
        "    # Bind mouse drag event to eraser movement\n",
        "    canvas.bind('<B1-Motion>', on_drag)\n",
        "\n",
        "    root.mainloop()\n"
      ],
      "metadata": {
        "id": "xb44fnthE1aQ"
      },
      "execution_count": null,
      "outputs": []
    },
    {
      "cell_type": "code",
      "source": [
        "def add_three_copies(lst: list, data):\n",
        "    \"\"\"\n",
        "    Adds three copies of `data` to the given list `lst`.\n",
        "    This function does NOT return anything, but modifies the list in-place.\n",
        "    \"\"\"\n",
        "    for _ in range(3):\n",
        "        lst.append(data)\n",
        "\n",
        "def main():\n",
        "    message = input(\"Enter a message to copy: \")\n",
        "\n",
        "    messages = []  # Start with an empty list\n",
        "\n",
        "    print(\"List before:\", messages)\n",
        "\n",
        "    add_three_copies(messages, message)  # Mutates the list\n",
        "\n",
        "    print(\"List after:\", messages)  # Observe the changes\n",
        "\n",
        "if __name__ == '__main__':\n",
        "    main()\n"
      ],
      "metadata": {
        "colab": {
          "base_uri": "https://localhost:8080/"
        },
        "id": "-rAqg7NVF7yN",
        "outputId": "aaef13d8-6bc1-4d9f-8b25-a515181399d1"
      },
      "execution_count": null,
      "outputs": [
        {
          "output_type": "stream",
          "name": "stdout",
          "text": [
            "Enter a message to copy: my khuabbbbbbbbbbbbbbb\n",
            "List before: []\n",
            "List after: ['my khuabbbbbbbbbbbbbbb', 'my khuabbbbbbbbbbbbbbb', 'my khuabbbbbbbbbbbbbbb']\n"
          ]
        }
      ]
    },
    {
      "cell_type": "code",
      "source": [
        "def get_first_element(lst):\n",
        "    \"\"\"\n",
        "    Prints the first element of the list.\n",
        "    The list is guaranteed to be non-empty.\n",
        "    \"\"\"\n",
        "    print(\"First element:\", lst[0])\n",
        "\n",
        "def main():\n",
        "    num_elements = int(input(\"How many elements do you want to enter? \"))\n",
        "    user_list = []\n",
        "\n",
        "    for i in range(num_elements):\n",
        "        element = input(f\"Enter element {i + 1}: \")\n",
        "        user_list.append(element)\n",
        "\n",
        "    get_first_element(user_list)\n",
        "\n",
        "if __name__ == '__main__':\n",
        "    main()\n",
        "\n"
      ],
      "metadata": {
        "colab": {
          "base_uri": "https://localhost:8080/"
        },
        "id": "d-npN8ETGM8I",
        "outputId": "142f1337-9170-4290-d85e-71fd1f49e54a"
      },
      "execution_count": null,
      "outputs": [
        {
          "output_type": "stream",
          "name": "stdout",
          "text": [
            "How many elements do you want to enter? 5\n",
            "Enter element 1: u\n",
            "Enter element 2: m\n",
            "Enter element 3: i\n",
            "Enter element 4: i\n",
            "Enter element 5: i\n",
            "First element: u\n"
          ]
        }
      ]
    },
    {
      "cell_type": "code",
      "source": [
        "def get_last_element(lst):\n",
        "    \"\"\"\n",
        "    Prints the last element of the list.\n",
        "    The list is guaranteed to be non-empty.\n",
        "    \"\"\"\n",
        "    print(\"Last element:\", lst[-1])\n",
        "\n",
        "def main():\n",
        "    num_elements = int(input(\"How many elements do you want to enter? \"))\n",
        "    user_list = []\n",
        "\n",
        "    for i in range(num_elements):\n",
        "        element = input(f\"Enter element {i + 1}: \")\n",
        "        user_list.append(element)\n",
        "\n",
        "    get_last_element(user_list)\n",
        "\n",
        "if __name__ == '__main__':\n",
        "    main()\n"
      ],
      "metadata": {
        "colab": {
          "base_uri": "https://localhost:8080/"
        },
        "id": "PbN0d-n5GtJn",
        "outputId": "0aa48f0a-ba73-4d85-f1f0-ad80841336bd"
      },
      "execution_count": null,
      "outputs": [
        {
          "output_type": "stream",
          "name": "stdout",
          "text": [
            "How many elements do you want to enter? 7\n",
            "Enter element 1: i\n",
            "Enter element 2: b\n",
            "Enter element 3: a\n",
            "Enter element 4: m\n",
            "Enter element 5: i\n",
            "Enter element 6: s\n",
            "Enter element 7: b\n",
            "Last element: b\n"
          ]
        }
      ]
    },
    {
      "cell_type": "code",
      "source": [
        "def main():\n",
        "    values = []\n",
        "\n",
        "    while True:\n",
        "        value = input(\"Enter a value: \")\n",
        "        if value == \"\":\n",
        "            break\n",
        "        values.append(value)\n",
        "\n",
        "    print(\"Here's the list:\", values)\n",
        "\n",
        "if __name__ == '__main__':\n",
        "    main()\n"
      ],
      "metadata": {
        "colab": {
          "base_uri": "https://localhost:8080/"
        },
        "id": "qk5Dh06gHFDE",
        "outputId": "75b51e44-33c9-4402-9a9b-4f55a52b9570"
      },
      "execution_count": null,
      "outputs": [
        {
          "name": "stdout",
          "output_type": "stream",
          "text": [
            "Enter a value: 90\n",
            "Enter a value: 88\n",
            "Enter a value: 90\n",
            "Enter a value: 89\n",
            "Enter a value: 99\n",
            "Enter a value: 80\n",
            "Enter a value: 999\n",
            "Enter a value: 88\n",
            "Enter a value: 99\n",
            "Enter a value: 7689\n",
            "Enter a value: 00998\n",
            "Enter a value: 77\n",
            "Enter a value: 88\n",
            "Enter a value: 87\n",
            "Enter a value: 78\n",
            "Enter a value: 98\n",
            "Enter a value: 90\n",
            "Enter a value: 00\n",
            "Enter a value: 970\n",
            "Enter a value: h\n",
            "Enter a value: j\n",
            "Enter a value: m\n",
            "Enter a value: gf\n",
            "Enter a value: f\n",
            "Enter a value: g\n",
            "Enter a value: gf\n",
            "Enter a value: f\n",
            "Enter a value: f\n",
            "Enter a value: f\n",
            "Enter a value: fd\n",
            "Enter a value: 99\n",
            "Enter a value: 89\n",
            "Enter a value: 97\n"
          ]
        }
      ]
    },
    {
      "cell_type": "code",
      "source": [
        "MAX_LENGTH = 3\n",
        "\n",
        "def shorten(lst):\n",
        "    \"\"\"\n",
        "    Removes items from the end of the list until it is MAX_LENGTH items long.\n",
        "    Prints each item removed.\n",
        "    \"\"\"\n",
        "    while len(lst) > MAX_LENGTH:\n",
        "        removed_item = lst.pop()\n",
        "        print(\"Removed:\", removed_item)\n",
        "\n",
        "def main():\n",
        "    num_elements = int(input(\"How many elements will you enter? \"))\n",
        "    user_list = []\n",
        "\n",
        "    for i in range(num_elements):\n",
        "        item = input(f\"Enter item {i + 1}: \")\n",
        "        user_list.append(item)\n",
        "\n",
        "    print(\"Original list:\", user_list)\n",
        "    shorten(user_list)\n",
        "    print(\"Shortened list:\", user_list)\n",
        "\n",
        "if __name__ == '__main__':\n",
        "    main()\n"
      ],
      "metadata": {
        "id": "Pix0pTKxHi7K"
      },
      "execution_count": null,
      "outputs": []
    }
  ]
}