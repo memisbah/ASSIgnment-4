{
  "nbformat": 4,
  "nbformat_minor": 0,
  "metadata": {
    "colab": {
      "provenance": [],
      "authorship_tag": "ABX9TyO7bgdnXHGn92lOEpEN2xWS",
      "include_colab_link": true
    },
    "kernelspec": {
      "name": "python3",
      "display_name": "Python 3"
    },
    "language_info": {
      "name": "python"
    }
  },
  "cells": [
    {
      "cell_type": "markdown",
      "metadata": {
        "id": "view-in-github",
        "colab_type": "text"
      },
      "source": [
        "<a href=\"https://colab.research.google.com/github/memisbah/ASSIgnment-4/blob/main/04_dictionaries.ipynb\" target=\"_parent\"><img src=\"https://colab.research.google.com/assets/colab-badge.svg\" alt=\"Open In Colab\"/></a>"
      ]
    },
    {
      "cell_type": "code",
      "source": [
        "def main():\n",
        "    counts = {}  # Dictionary to store number counts\n",
        "\n",
        "    while True:\n",
        "        user_input = input(\"Enter a number: \")\n",
        "        if user_input == \"\":\n",
        "            break\n",
        "\n",
        "        number = int(user_input)\n",
        "        if number in counts:\n",
        "            counts[number] += 1\n",
        "        else:\n",
        "            counts[number] = 1\n",
        "\n",
        "    # Print the results\n",
        "    for number, count in counts.items():\n",
        "        print(f\"{number} appears {count} times.\")\n",
        "\n",
        "if __name__ == '__main__':\n",
        "    main()\n"
      ],
      "metadata": {
        "id": "XdyQyO9dr5fW"
      },
      "execution_count": null,
      "outputs": []
    },
    {
      "cell_type": "code",
      "source": [
        "def main():\n",
        "    # Create a phonebook dictionary\n",
        "    phonebook = {\n",
        "        \"Alice\": \"123-456-7890\",\n",
        "        \"Bob\": \"234-567-8901\",\n",
        "        \"Charlie\": \"345-678-9012\"\n",
        "    }\n",
        "\n",
        "    # Ask the user for a name\n",
        "    name = input(\"Enter a name to look up their phone number: \")\n",
        "\n",
        "    # Check if the name exists in the phonebook\n",
        "    if name in phonebook:\n",
        "        print(f\"{name}'s number is {phonebook[name]}\")\n",
        "    else:\n",
        "        print(f\"Sorry, {name} is not in the phonebook.\")\n",
        "\n",
        "if __name__ == '__main__':\n",
        "    main()\n"
      ],
      "metadata": {
        "id": "SF8F1HUpr6MI"
      },
      "execution_count": null,
      "outputs": []
    },
    {
      "cell_type": "code",
      "source": [
        "def main():\n",
        "    # Fruit prices\n",
        "    fruit_prices = {\n",
        "        \"apple\": 5.0,\n",
        "        \"durian\": 25.0,\n",
        "        \"jackfruit\": 15.0,\n",
        "        \"kiwi\": 4.5,\n",
        "        \"rambutan\": 10.0,\n",
        "        \"mango\": 8.5\n",
        "    }\n",
        "\n",
        "    total = 0.0\n",
        "\n",
        "    # Ask user for quantity of each fruit\n",
        "    for fruit, price in fruit_prices.items():\n",
        "        qty = int(input(f\"How many ({fruit}) do you want?: \"))\n",
        "        total += qty * price\n",
        "\n",
        "    print(f\"\\nYour total is ${total}\")\n",
        "\n",
        "if __name__ == '__main__':\n",
        "    main()\n"
      ],
      "metadata": {
        "id": "KUBDtFhDsORO"
      },
      "execution_count": null,
      "outputs": []
    },
    {
      "cell_type": "code",
      "source": [
        "import hashlib\n",
        "\n",
        "# Hashing function using SHA-256\n",
        "def hash_password(password):\n",
        "    return hashlib.sha256(password.encode()).hexdigest()\n",
        "\n",
        "# Example stored logins dictionary\n",
        "stored_logins = {\n",
        "    \"alice@example.com\": hash_password(\"apple123\"),\n",
        "    \"bob@example.com\": hash_password(\"securePass!\"),\n",
        "    \"carol@example.com\": hash_password(\"letmein\")\n",
        "}\n",
        "\n",
        "# Login function to validate password\n",
        "def login(email, password_to_check):\n",
        "    if email in stored_logins:\n",
        "        return stored_logins[email] == hash_password(password_to_check)\n",
        "    return False\n",
        "\n",
        "# Example usage\n",
        "def main():\n",
        "    email = input(\"Enter your email: \")\n",
        "    password = input(\"Enter your password: \")\n",
        "\n",
        "    if login(email, password):\n",
        "        print(\"Login successful!\")\n",
        "    else:\n",
        "        print(\"Login failed. Incorrect email or password.\")\n",
        "\n",
        "if __name__ == '__main__':\n",
        "    main()\n"
      ],
      "metadata": {
        "colab": {
          "base_uri": "https://localhost:8080/"
        },
        "id": "wjhyet5ttFar",
        "outputId": "ba3a83ea-a9f7-40bd-91b8-2159b1b18907"
      },
      "execution_count": 3,
      "outputs": [
        {
          "output_type": "stream",
          "name": "stdout",
          "text": [
            "Enter your email: gysgygdygsyg@hgusqhuhsk\n",
            "Enter your password: egjytrjyft3k45\n",
            "Login failed. Incorrect email or password.\n"
          ]
        }
      ]
    }
  ]
}