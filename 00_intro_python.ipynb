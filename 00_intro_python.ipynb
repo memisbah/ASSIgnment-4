{
  "nbformat": 4,
  "nbformat_minor": 0,
  "metadata": {
    "colab": {
      "provenance": [],
      "toc_visible": true,
      "authorship_tag": "ABX9TyPlmzRjYRwpry/7XJiUUKzA",
      "include_colab_link": true
    },
    "kernelspec": {
      "name": "python3",
      "display_name": "Python 3"
    },
    "language_info": {
      "name": "python"
    }
  },
  "cells": [
    {
      "cell_type": "markdown",
      "metadata": {
        "id": "view-in-github",
        "colab_type": "text"
      },
      "source": [
        "<a href=\"https://colab.research.google.com/github/memisbah/ASSIgnment-4/blob/main/00_intro_python.ipynb\" target=\"_parent\"><img src=\"https://colab.research.google.com/assets/colab-badge.svg\" alt=\"Open In Colab\"/></a>"
      ]
    },
    {
      "cell_type": "code",
      "execution_count": 1,
      "metadata": {
        "colab": {
          "base_uri": "https://localhost:8080/"
        },
        "id": "Nfj8V6hZEphw",
        "outputId": "2304b871-916f-4df3-a9cb-48683c66e3c9"
      },
      "outputs": [
        {
          "output_type": "stream",
          "name": "stdout",
          "text": [
            "Enter the first number: 5\n",
            "Enter the second number: 7\n",
            "The sum of 5 and 7 is 12\n"
          ]
        }
      ],
      "source": [
        "def main():\n",
        "    # Prompt the user to enter the first number\n",
        "    first_number = int(input(\"Enter the first number: \"))\n",
        "\n",
        "    # Prompt the user to enter the second number\n",
        "    second_number = int(input(\"Enter the second number: \"))\n",
        "\n",
        "    # Calculate the sum\n",
        "    total = first_number + second_number\n",
        "\n",
        "    # Print the total sum with an appropriate message\n",
        "    print(\"The sum of\", first_number, \"and\", second_number, \"is\", total)\n",
        "\n",
        "# Run the main function\n",
        "if __name__ == \"__main__\":\n",
        "    main()\n"
      ]
    },
    {
      "cell_type": "code",
      "source": [
        "def main():\n",
        "    # Ask the user what their favorite animal is\n",
        "    favorite_animal = input(\"What's your favorite animal? \")\n",
        "\n",
        "    # Respond with the user's favorite animal\n",
        "    print(\"My favorite animal is also \" + favorite_animal + \"!\")\n",
        "\n",
        "# Run the main function\n",
        "if __name__ == \"__main__\":\n",
        "    main()\n"
      ],
      "metadata": {
        "colab": {
          "base_uri": "https://localhost:8080/"
        },
        "id": "X4_OXHJ0FmHc",
        "outputId": "78be58d2-bd22-409a-d92c-2affcd922f78"
      },
      "execution_count": 2,
      "outputs": [
        {
          "output_type": "stream",
          "name": "stdout",
          "text": [
            "What's your favorite animal? misbah\n",
            "My favorite animal is also misbah!\n"
          ]
        }
      ]
    },
    {
      "cell_type": "code",
      "source": [
        "def main():\n",
        "    # Prompt the user for temperature in Fahrenheit\n",
        "    fahrenheit = float(input(\"Enter temperature in Fahrenheit: \"))\n",
        "\n",
        "    # Convert to Celsius\n",
        "    celsius = (fahrenheit - 32) * 5.0 / 9.0\n",
        "\n",
        "    # Print the result\n",
        "    print(\"Temperature:\", fahrenheit, \"F =\", celsius, \"C\")\n",
        "\n",
        "# Run the main function\n",
        "if __name__ == \"__main__\":\n",
        "    main()\n"
      ],
      "metadata": {
        "colab": {
          "base_uri": "https://localhost:8080/"
        },
        "id": "KR5ReA5OGFbi",
        "outputId": "b38b901a-9406-428a-ed42-b2a542d2980a"
      },
      "execution_count": 3,
      "outputs": [
        {
          "output_type": "stream",
          "name": "stdout",
          "text": [
            "Enter temperature in Fahrenheit: 0\n",
            "Temperature: 0.0 F = -17.77777777777778 C\n"
          ]
        }
      ]
    },
    {
      "cell_type": "code",
      "source": [
        "def main():\n",
        "    # Anton's age\n",
        "    Anton = 21\n",
        "\n",
        "    # Beth is 6 years older than Anton\n",
        "    Beth = Anton + 6\n",
        "\n",
        "    # Chen is 20 years older than Beth\n",
        "    Chen = Beth + 20\n",
        "\n",
        "    # Drew is as old as Chen's age plus Anton's age\n",
        "    Drew = Chen + Anton\n",
        "\n",
        "    # Ethan is the same age as Chen\n",
        "    Ethan = Chen\n",
        "\n",
        "    # Print names and ages\n",
        "    print(\"Anton: 21\")\n",
        "    print(\"Beth: \" + str(Beth))\n",
        "    print(\"Chen: \" + str(Chen))\n",
        "    print(\"Drew: \" + str(Drew))\n",
        "    print(\"Ethan: \" + str(Ethan))\n",
        "\n",
        "# Run the main function\n",
        "if __name__ == \"__main__\":\n",
        "    main()\n"
      ],
      "metadata": {
        "colab": {
          "base_uri": "https://localhost:8080/"
        },
        "id": "vJrpHBOkGcwt",
        "outputId": "7873d405-93e6-4877-b32d-df84e9c0e1ae"
      },
      "execution_count": 4,
      "outputs": [
        {
          "output_type": "stream",
          "name": "stdout",
          "text": [
            "Anton: 21\n",
            "Beth: 27\n",
            "Chen: 47\n",
            "Drew: 68\n",
            "Ethan: 47\n"
          ]
        }
      ]
    },
    {
      "cell_type": "code",
      "source": [
        "def main():\n",
        "    # Prompt the user for each side length and convert to float\n",
        "    side1 = float(input(\"What is the length of side 1? \"))\n",
        "    side2 = float(input(\"What is the length of side 2? \"))\n",
        "    side3 = float(input(\"What is the length of side 3? \"))\n",
        "\n",
        "    # Calculate the perimeter\n",
        "    perimeter = side1 + side2 + side3\n",
        "\n",
        "    # Print the result\n",
        "    print(\"The perimeter of the triangle is\", perimeter)\n",
        "\n",
        "# Run the main function\n",
        "if __name__ == \"__main__\":\n",
        "    main()\n"
      ],
      "metadata": {
        "colab": {
          "base_uri": "https://localhost:8080/"
        },
        "id": "WO-FYejvG7hu",
        "outputId": "de894edd-530a-4099-b155-3ec39bae99e2"
      },
      "execution_count": 5,
      "outputs": [
        {
          "output_type": "stream",
          "name": "stdout",
          "text": [
            "What is the length of side 1? 5\n",
            "What is the length of side 2? 8\n",
            "What is the length of side 3? 2\n",
            "The perimeter of the triangle is 15.0\n"
          ]
        }
      ]
    },
    {
      "cell_type": "code",
      "source": [
        "def main():\n",
        "    # Ask the user for a number\n",
        "    number = float(input(\"Type a number to see its square: \"))\n",
        "\n",
        "    # Calculate the square\n",
        "    square = number ** 2\n",
        "\n",
        "    # Print the result\n",
        "    print(f\"{number} squared is {square}\")\n",
        "\n",
        "# Run the main function\n",
        "if __name__ == \"__main__\":\n",
        "    main()\n"
      ],
      "metadata": {
        "colab": {
          "base_uri": "https://localhost:8080/"
        },
        "id": "M5Fi0IjZHR_a",
        "outputId": "ee136f2c-6ee4-4a4d-c606-462c67297fd3"
      },
      "execution_count": 6,
      "outputs": [
        {
          "output_type": "stream",
          "name": "stdout",
          "text": [
            "Type a number to see its square: 4\n",
            "4.0 squared is 16.0\n"
          ]
        }
      ]
    }
  ]
}