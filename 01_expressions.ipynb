{
  "nbformat": 4,
  "nbformat_minor": 0,
  "metadata": {
    "colab": {
      "provenance": [],
      "authorship_tag": "ABX9TyNY62yjZWbWi//g3Ac6sxZM",
      "include_colab_link": true
    },
    "kernelspec": {
      "name": "python3",
      "display_name": "Python 3"
    },
    "language_info": {
      "name": "python"
    }
  },
  "cells": [
    {
      "cell_type": "markdown",
      "metadata": {
        "id": "view-in-github",
        "colab_type": "text"
      },
      "source": [
        "<a href=\"https://colab.research.google.com/github/memisbah/ASSIgnment-4/blob/main/01_expressions.ipynb\" target=\"_parent\"><img src=\"https://colab.research.google.com/assets/colab-badge.svg\" alt=\"Open In Colab\"/></a>"
      ]
    },
    {
      "cell_type": "code",
      "execution_count": 1,
      "metadata": {
        "colab": {
          "base_uri": "https://localhost:8080/"
        },
        "id": "O_PrUZHyJltV",
        "outputId": "a84b8700-316b-466c-f1ba-408a2fbb19b6"
      },
      "outputs": [
        {
          "output_type": "stream",
          "name": "stdout",
          "text": [
            "Rolling dice 3 times...\n",
            "Die 1: 2 Die 2: 6\n",
            "Die 1: 5 Die 2: 5\n",
            "Die 1: 4 Die 2: 4\n"
          ]
        }
      ],
      "source": [
        "import random\n",
        "\n",
        "def roll_dice():\n",
        "    # Roll two dice\n",
        "    die1 = random.randint(1, 6)\n",
        "    die2 = random.randint(1, 6)\n",
        "    print(\"Die 1:\", die1, \"Die 2:\", die2)\n",
        "\n",
        "def main():\n",
        "    # Roll the dice three times\n",
        "    print(\"Rolling dice 3 times...\")\n",
        "    for i in range(3):\n",
        "        roll_dice()\n",
        "\n",
        "# Run the main function\n",
        "if __name__ == \"__main__\":\n",
        "    main()\n"
      ]
    },
    {
      "cell_type": "code",
      "source": [
        "def main():\n",
        "    # Speed of light constant (in meters per second)\n",
        "    C = 299792458\n",
        "\n",
        "    # Prompt the user for mass in kilograms\n",
        "    mass = float(input(\"Enter kilos of mass: \"))\n",
        "\n",
        "    # Calculate energy using E = m * c^2\n",
        "    print(\"\\ne = m * C^2...\\n\")\n",
        "    print(\"m =\", mass, \"kg\")\n",
        "    print(\"C =\", C, \"m/s\\n\")\n",
        "\n",
        "    energy = mass * C**2\n",
        "    print(energy, \"joules of energy!\")\n",
        "\n",
        "# This provided line is required at the end of\n",
        "# Python file to call the main() function.\n",
        "if __name__ == '__main__':\n",
        "    main()\n"
      ],
      "metadata": {
        "colab": {
          "base_uri": "https://localhost:8080/"
        },
        "id": "mWdZJfoZKD-S",
        "outputId": "d96d505c-8eb8-43cc-8eb1-e3b48820283e"
      },
      "execution_count": 2,
      "outputs": [
        {
          "output_type": "stream",
          "name": "stdout",
          "text": [
            "Enter kilos of mass: 40\n",
            "\n",
            "e = m * C^2...\n",
            "\n",
            "m = 40.0 kg\n",
            "C = 299792458 m/s\n",
            "\n",
            "3.5950207149472707e+18 joules of energy!\n"
          ]
        }
      ]
    },
    {
      "cell_type": "code",
      "source": [
        "def main():\n",
        "    # Ask the user for a length in feet\n",
        "    feet = float(input(\"Enter length in feet: \"))\n",
        "\n",
        "    # Convert to inches\n",
        "    inches = feet * 12\n",
        "\n",
        "    # Print the result\n",
        "    print(feet, \"feet is\", inches, \"inches.\")\n",
        "\n",
        "# This provided line is required at the end of\n",
        "# Python file to call the main() function.\n",
        "if __name__ == '__main__':\n",
        "    main()\n"
      ],
      "metadata": {
        "colab": {
          "base_uri": "https://localhost:8080/"
        },
        "id": "u7KYmqHAKfOj",
        "outputId": "3efb8f8c-a453-4d6e-cf3e-4cdb9133ac9d"
      },
      "execution_count": 3,
      "outputs": [
        {
          "output_type": "stream",
          "name": "stdout",
          "text": [
            "Enter length in feet: 33\n",
            "33.0 feet is 396.0 inches.\n"
          ]
        }
      ]
    },
    {
      "cell_type": "code",
      "source": [
        "import math\n",
        "\n",
        "def main():\n",
        "    # Ask the user for lengths of the two perpendicular sides\n",
        "    AB = float(input(\"Enter the length of AB: \"))\n",
        "    AC = float(input(\"Enter the length of AC: \"))\n",
        "\n",
        "    # Calculate the hypotenuse using Pythagorean theorem\n",
        "    BC = math.sqrt(AB ** 2 + AC ** 2)\n",
        "\n",
        "    # Output the result\n",
        "    print(\"The length of BC (the hypotenuse) is:\", BC)\n",
        "\n",
        "# This provided line is required at the end of\n",
        "# Python file to call the main() function.\n",
        "if __name__ == '__main__':\n",
        "    main()\n"
      ],
      "metadata": {
        "colab": {
          "base_uri": "https://localhost:8080/"
        },
        "id": "HCy_QdDfK5Jn",
        "outputId": "38b01f00-0561-4e70-8dba-7f625e1eb19b"
      },
      "execution_count": 4,
      "outputs": [
        {
          "output_type": "stream",
          "name": "stdout",
          "text": [
            "Enter the length of AB: 3\n",
            "Enter the length of AC: 4\n",
            "The length of BC (the hypotenuse) is: 5.0\n"
          ]
        }
      ]
    },
    {
      "cell_type": "markdown",
      "source": [],
      "metadata": {
        "id": "fM0m11-tLgCL"
      }
    },
    {
      "cell_type": "code",
      "source": [
        "def main():\n",
        "    # Ask the user for two integers\n",
        "    dividend = int(input(\"Please enter an integer to be divided: \"))\n",
        "    divisor = int(input(\"Please enter an integer to divide by: \"))\n",
        "\n",
        "    # Perform division and find remainder\n",
        "    quotient = dividend // divisor\n",
        "    remainder = dividend % divisor\n",
        "\n",
        "    # Output the result\n",
        "    print(\"The result of this division is\", quotient, \"with a remainder of\", remainder)\n",
        "\n",
        "# Required call to main function\n",
        "if __name__ == '__main__':\n",
        "    main()\n"
      ],
      "metadata": {
        "colab": {
          "base_uri": "https://localhost:8080/"
        },
        "id": "c-MPNYVVLRLE",
        "outputId": "3df41eb2-fc78-47b5-db69-a7ca4cf5766c"
      },
      "execution_count": 5,
      "outputs": [
        {
          "output_type": "stream",
          "name": "stdout",
          "text": [
            "Please enter an integer to be divided: 60\n",
            "Please enter an integer to divide by: 4\n",
            "The result of this division is 15 with a remainder of 0\n"
          ]
        }
      ]
    },
    {
      "cell_type": "code",
      "source": [
        "import random\n",
        "\n",
        "def main():\n",
        "    # Roll two dice\n",
        "    die1 = random.randint(1, 6)\n",
        "    die2 = random.randint(1, 6)\n",
        "\n",
        "    # Calculate total\n",
        "    total = die1 + die2\n",
        "\n",
        "    # Print results\n",
        "    print(\"Rolling two dice...\")\n",
        "    print(\"Die 1:\", die1)\n",
        "    print(\"Die 2:\", die2)\n",
        "    print(\"Total:\", total)\n",
        "\n",
        "# This provided line is required at the end of\n",
        "# Python file to call the main() function.\n",
        "if __name__ == '__main__':\n",
        "    main()\n"
      ],
      "metadata": {
        "colab": {
          "base_uri": "https://localhost:8080/"
        },
        "id": "9EBDrrQPL1xy",
        "outputId": "11e19b1a-97e9-4c98-eb87-2a0319402d9c"
      },
      "execution_count": 6,
      "outputs": [
        {
          "output_type": "stream",
          "name": "stdout",
          "text": [
            "Rolling two dice...\n",
            "Die 1: 1\n",
            "Die 2: 3\n",
            "Total: 4\n"
          ]
        }
      ]
    },
    {
      "cell_type": "code",
      "source": [
        "def main():\n",
        "    # Constants\n",
        "    DAYS_IN_YEAR = 365\n",
        "    HOURS_IN_DAY = 24\n",
        "    MINUTES_IN_HOUR = 60\n",
        "    SECONDS_IN_MINUTE = 60\n",
        "\n",
        "    # Calculate total seconds in a year\n",
        "    seconds_in_year = DAYS_IN_YEAR * HOURS_IN_DAY * MINUTES_IN_HOUR * SECONDS_IN_MINUTE\n",
        "\n",
        "    # Print the result\n",
        "    print(\"There are\", seconds_in_year, \"seconds in a year!\")\n",
        "\n",
        "# This provided line is required at the end of\n",
        "# Python file to call the main() function.\n",
        "if __name__ == '__main__':\n",
        "    main()\n"
      ],
      "metadata": {
        "colab": {
          "base_uri": "https://localhost:8080/"
        },
        "id": "sV38Zq4CMCtO",
        "outputId": "02f9ba5d-2ca4-4895-dc16-827f2c23c1e8"
      },
      "execution_count": 7,
      "outputs": [
        {
          "output_type": "stream",
          "name": "stdout",
          "text": [
            "There are 31536000 seconds in a year!\n"
          ]
        }
      ]
    },
    {
      "cell_type": "code",
      "source": [
        "def main():\n",
        "    SENTENCE_START = \"Code in Place is fun. I learned to program and used Python to make my\"\n",
        "\n",
        "    # Prompt the user for words\n",
        "    adjective = input(\"Please type an adjective and press enter. \")\n",
        "    noun = input(\"Please type a noun and press enter. \")\n",
        "    verb = input(\"Please type a verb and press enter. \")\n",
        "\n",
        "    # Construct and print the final sentence\n",
        "    print(SENTENCE_START, adjective, noun, verb + \"!\")\n",
        "\n",
        "# Required to call main()\n",
        "if __name__ == '__main__':\n",
        "    main()\n"
      ],
      "metadata": {
        "colab": {
          "base_uri": "https://localhost:8080/"
        },
        "id": "3oDi-C-2Mj1B",
        "outputId": "43e9deca-c202-4917-e304-ea00187c9276"
      },
      "execution_count": 8,
      "outputs": [
        {
          "output_type": "stream",
          "name": "stdout",
          "text": [
            "Please type an adjective and press enter. impressive\n",
            "Please type a noun and press enter. guy\n",
            "Please type a verb and press enter. act\n",
            "Code in Place is fun. I learned to program and used Python to make my impressive guy act!\n"
          ]
        }
      ]
    }
  ]
}