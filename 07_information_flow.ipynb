{
  "nbformat": 4,
  "nbformat_minor": 0,
  "metadata": {
    "colab": {
      "provenance": [],
      "authorship_tag": "ABX9TyNM2sq1DNGgUrSI1Lbcq7/D",
      "include_colab_link": true
    },
    "kernelspec": {
      "name": "python3",
      "display_name": "Python 3"
    },
    "language_info": {
      "name": "python"
    }
  },
  "cells": [
    {
      "cell_type": "markdown",
      "metadata": {
        "id": "view-in-github",
        "colab_type": "text"
      },
      "source": [
        "<a href=\"https://colab.research.google.com/github/memisbah/ASSIgnment-4/blob/main/07_information_flow.ipynb\" target=\"_parent\"><img src=\"https://colab.research.google.com/assets/colab-badge.svg\" alt=\"Open In Colab\"/></a>"
      ]
    },
    {
      "cell_type": "code",
      "execution_count": null,
      "metadata": {
        "id": "znL5KASkgKtn"
      },
      "outputs": [],
      "source": [
        "ADULT_AGE = 18  # U.S. age\n",
        "\n",
        "def is_adult(age: int):\n",
        "    if age >= ADULT_AGE:\n",
        "        return True\n",
        "    return False\n",
        "\n",
        "def main():\n",
        "    age = int(input(\"How old is this person?: \"))\n",
        "    print(is_adult(age))\n",
        "\n",
        "if __name__ == \"__main__\":\n",
        "    main()\n"
      ]
    },
    {
      "cell_type": "code",
      "source": [
        "def greet(name):\n",
        "    print(\"Greetings \" + name + \"!\")\n",
        "\n",
        "def main():\n",
        "    name = input(\"What's your name? \")\n",
        "    greet(name)\n",
        "\n",
        "if __name__ == '__main__':\n",
        "    main()\n"
      ],
      "metadata": {
        "id": "5X9hlOB_gXcI"
      },
      "execution_count": null,
      "outputs": []
    },
    {
      "cell_type": "code",
      "source": [
        "def in_range(n, low, high):\n",
        "    \"\"\"\n",
        "    Returns True if n is between low and high, inclusive.\n",
        "    high is guaranteed to be greater than low.\n",
        "    \"\"\"\n",
        "    if n >= low and n <= high:\n",
        "        return True\n",
        "    return False  # If not in range, return False\n",
        "\n",
        "def main():\n",
        "    # Here you can test the in_range function if needed\n",
        "    n = int(input(\"Enter a number: \"))\n",
        "    low = int(input(\"Enter the lower bound: \"))\n",
        "    high = int(input(\"Enter the upper bound: \"))\n",
        "    print(in_range(n, low, high))\n",
        "\n",
        "if __name__ == '__main__':\n",
        "    main()\n"
      ],
      "metadata": {
        "id": "Eu-FWuc2gfVp"
      },
      "execution_count": null,
      "outputs": []
    },
    {
      "cell_type": "code",
      "source": [
        "def main():\n",
        "    fruit = input(\"Enter a fruit: \")\n",
        "    stock = num_in_stock(fruit)\n",
        "    if stock == 0:\n",
        "        print(\"This fruit is not in stock.\")\n",
        "    else:\n",
        "        print(\"This fruit is in stock! Here is how many:\")\n",
        "        print(stock)\n",
        "\n",
        "def num_in_stock(fruit):\n",
        "    \"\"\"\n",
        "    This function returns the number of fruit Sophia has in stock.\n",
        "    \"\"\"\n",
        "    if fruit == 'apple':\n",
        "        return 2\n",
        "    if fruit == 'durian':\n",
        "        return 4\n",
        "    if fruit == 'pear':\n",
        "        return 1000\n",
        "    else:\n",
        "        # this fruit is not in stock.\n",
        "        return 0\n",
        "\n",
        "\n",
        "if __name__ == '__main__':\n",
        "    main()\n"
      ],
      "metadata": {
        "id": "a6at2tgmgnAW"
      },
      "execution_count": null,
      "outputs": []
    },
    {
      "cell_type": "code",
      "source": [
        "def get_user_info():\n",
        "    first_name = input(\"What is your first name?: \")\n",
        "    last_name = input(\"What is your last name?: \")\n",
        "    email_address = input(\"What is your email address?: \")\n",
        "\n",
        "    return first_name, last_name, email_address\n",
        "\n",
        "def main():\n",
        "    user_data = get_user_info()\n",
        "    print(\"Received the following user data:\", user_data)\n",
        "\n",
        "if __name__ == \"__main__\":\n",
        "    main()\n"
      ],
      "metadata": {
        "id": "wYBuWdVAgwCe"
      },
      "execution_count": null,
      "outputs": []
    },
    {
      "cell_type": "code",
      "source": [
        "def subtract_seven(num):\n",
        "    \"\"\"\n",
        "    Subtracts 7 from the given number.\n",
        "    \"\"\"\n",
        "    return num - 7\n",
        "\n",
        "def main():\n",
        "    num = 7\n",
        "    num = subtract_seven(num)  # Calls the subtract_seven function\n",
        "    print(\"This should be zero:\", num)  # Should print 0 as 7 - 7 = 0\n",
        "\n",
        "if __name__ == '__main__':\n",
        "    main()\n"
      ],
      "metadata": {
        "id": "d3lLlNpcg5iL"
      },
      "execution_count": null,
      "outputs": []
    }
  ]
}